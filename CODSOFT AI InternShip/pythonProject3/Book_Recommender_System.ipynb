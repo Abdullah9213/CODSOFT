{
 "cells": [
  {
   "cell_type": "code",
   "execution_count": 71,
   "id": "initial_id",
   "metadata": {
    "collapsed": true,
    "jupyter": {
     "outputs_hidden": true
    },
    "ExecuteTime": {
     "end_time": "2024-02-25T16:19:53.758153800Z",
     "start_time": "2024-02-25T16:19:50.841206900Z"
    }
   },
   "outputs": [
    {
     "name": "stderr",
     "output_type": "stream",
     "text": [
      "C:\\Users\\Cp9-30\\AppData\\Local\\Temp\\ipykernel_20256\\185322847.py:3: DtypeWarning: Columns (3) have mixed types. Specify dtype option on import or set low_memory=False.\n",
      "  books = panda.read_csv('books.csv')\n"
     ]
    }
   ],
   "source": [
    "import numpy as nmp\n",
    "import pandas as panda\n",
    "books = panda.read_csv('books.csv')\n",
    "users= panda.read_csv('users.csv')\n",
    "ratings= panda.read_csv('ratings.csv')\n"
   ]
  },
  {
   "cell_type": "code",
   "execution_count": 72,
   "id": "693889292f75dd26",
   "metadata": {
    "collapsed": false,
    "ExecuteTime": {
     "end_time": "2024-02-25T16:19:53.777830500Z",
     "start_time": "2024-02-25T16:19:53.762151900Z"
    }
   },
   "outputs": [
    {
     "data": {
      "text/plain": "         ISBN                                         Book-Title  \\\n0  0195153448                                Classical Mythology   \n1  0002005018                                       Clara Callan   \n2  0060973129                               Decision in Normandy   \n3  0374157065  Flu: The Story of the Great Influenza Pandemic...   \n4  0393045218                             The Mummies of Urumchi   \n\n            Book-Author Year-Of-Publication                   Publisher  \\\n0    Mark P. O. Morford                2002     Oxford University Press   \n1  Richard Bruce Wright                2001       HarperFlamingo Canada   \n2          Carlo D'Este                1991             HarperPerennial   \n3      Gina Bari Kolata                1999        Farrar Straus Giroux   \n4       E. J. W. Barber                1999  W. W. Norton &amp; Company   \n\n                                         Image-URL-S  \\\n0  http://images.amazon.com/images/P/0195153448.0...   \n1  http://images.amazon.com/images/P/0002005018.0...   \n2  http://images.amazon.com/images/P/0060973129.0...   \n3  http://images.amazon.com/images/P/0374157065.0...   \n4  http://images.amazon.com/images/P/0393045218.0...   \n\n                                         Image-URL-M  \\\n0  http://images.amazon.com/images/P/0195153448.0...   \n1  http://images.amazon.com/images/P/0002005018.0...   \n2  http://images.amazon.com/images/P/0060973129.0...   \n3  http://images.amazon.com/images/P/0374157065.0...   \n4  http://images.amazon.com/images/P/0393045218.0...   \n\n                                         Image-URL-L  \n0  http://images.amazon.com/images/P/0195153448.0...  \n1  http://images.amazon.com/images/P/0002005018.0...  \n2  http://images.amazon.com/images/P/0060973129.0...  \n3  http://images.amazon.com/images/P/0374157065.0...  \n4  http://images.amazon.com/images/P/0393045218.0...  ",
      "text/html": "<div>\n<style scoped>\n    .dataframe tbody tr th:only-of-type {\n        vertical-align: middle;\n    }\n\n    .dataframe tbody tr th {\n        vertical-align: top;\n    }\n\n    .dataframe thead th {\n        text-align: right;\n    }\n</style>\n<table border=\"1\" class=\"dataframe\">\n  <thead>\n    <tr style=\"text-align: right;\">\n      <th></th>\n      <th>ISBN</th>\n      <th>Book-Title</th>\n      <th>Book-Author</th>\n      <th>Year-Of-Publication</th>\n      <th>Publisher</th>\n      <th>Image-URL-S</th>\n      <th>Image-URL-M</th>\n      <th>Image-URL-L</th>\n    </tr>\n  </thead>\n  <tbody>\n    <tr>\n      <th>0</th>\n      <td>0195153448</td>\n      <td>Classical Mythology</td>\n      <td>Mark P. O. Morford</td>\n      <td>2002</td>\n      <td>Oxford University Press</td>\n      <td>http://images.amazon.com/images/P/0195153448.0...</td>\n      <td>http://images.amazon.com/images/P/0195153448.0...</td>\n      <td>http://images.amazon.com/images/P/0195153448.0...</td>\n    </tr>\n    <tr>\n      <th>1</th>\n      <td>0002005018</td>\n      <td>Clara Callan</td>\n      <td>Richard Bruce Wright</td>\n      <td>2001</td>\n      <td>HarperFlamingo Canada</td>\n      <td>http://images.amazon.com/images/P/0002005018.0...</td>\n      <td>http://images.amazon.com/images/P/0002005018.0...</td>\n      <td>http://images.amazon.com/images/P/0002005018.0...</td>\n    </tr>\n    <tr>\n      <th>2</th>\n      <td>0060973129</td>\n      <td>Decision in Normandy</td>\n      <td>Carlo D'Este</td>\n      <td>1991</td>\n      <td>HarperPerennial</td>\n      <td>http://images.amazon.com/images/P/0060973129.0...</td>\n      <td>http://images.amazon.com/images/P/0060973129.0...</td>\n      <td>http://images.amazon.com/images/P/0060973129.0...</td>\n    </tr>\n    <tr>\n      <th>3</th>\n      <td>0374157065</td>\n      <td>Flu: The Story of the Great Influenza Pandemic...</td>\n      <td>Gina Bari Kolata</td>\n      <td>1999</td>\n      <td>Farrar Straus Giroux</td>\n      <td>http://images.amazon.com/images/P/0374157065.0...</td>\n      <td>http://images.amazon.com/images/P/0374157065.0...</td>\n      <td>http://images.amazon.com/images/P/0374157065.0...</td>\n    </tr>\n    <tr>\n      <th>4</th>\n      <td>0393045218</td>\n      <td>The Mummies of Urumchi</td>\n      <td>E. J. W. Barber</td>\n      <td>1999</td>\n      <td>W. W. Norton &amp;amp; Company</td>\n      <td>http://images.amazon.com/images/P/0393045218.0...</td>\n      <td>http://images.amazon.com/images/P/0393045218.0...</td>\n      <td>http://images.amazon.com/images/P/0393045218.0...</td>\n    </tr>\n  </tbody>\n</table>\n</div>"
     },
     "execution_count": 72,
     "metadata": {},
     "output_type": "execute_result"
    }
   ],
   "source": [
    "books.head()"
   ]
  },
  {
   "cell_type": "code",
   "execution_count": 73,
   "id": "2c2369ab552001a9",
   "metadata": {
    "collapsed": false,
    "ExecuteTime": {
     "end_time": "2024-02-25T16:19:53.810154200Z",
     "start_time": "2024-02-25T16:19:53.775830300Z"
    }
   },
   "outputs": [
    {
     "data": {
      "text/plain": "   User-ID                            Location   Age\n0        1                  nyc, new york, usa   NaN\n1        2           stockton, california, usa  18.0\n2        3     moscow, yukon territory, russia   NaN\n3        4           porto, v.n.gaia, portugal  17.0\n4        5  farnborough, hants, united kingdom   NaN",
      "text/html": "<div>\n<style scoped>\n    .dataframe tbody tr th:only-of-type {\n        vertical-align: middle;\n    }\n\n    .dataframe tbody tr th {\n        vertical-align: top;\n    }\n\n    .dataframe thead th {\n        text-align: right;\n    }\n</style>\n<table border=\"1\" class=\"dataframe\">\n  <thead>\n    <tr style=\"text-align: right;\">\n      <th></th>\n      <th>User-ID</th>\n      <th>Location</th>\n      <th>Age</th>\n    </tr>\n  </thead>\n  <tbody>\n    <tr>\n      <th>0</th>\n      <td>1</td>\n      <td>nyc, new york, usa</td>\n      <td>NaN</td>\n    </tr>\n    <tr>\n      <th>1</th>\n      <td>2</td>\n      <td>stockton, california, usa</td>\n      <td>18.0</td>\n    </tr>\n    <tr>\n      <th>2</th>\n      <td>3</td>\n      <td>moscow, yukon territory, russia</td>\n      <td>NaN</td>\n    </tr>\n    <tr>\n      <th>3</th>\n      <td>4</td>\n      <td>porto, v.n.gaia, portugal</td>\n      <td>17.0</td>\n    </tr>\n    <tr>\n      <th>4</th>\n      <td>5</td>\n      <td>farnborough, hants, united kingdom</td>\n      <td>NaN</td>\n    </tr>\n  </tbody>\n</table>\n</div>"
     },
     "execution_count": 73,
     "metadata": {},
     "output_type": "execute_result"
    }
   ],
   "source": [
    "users.head()"
   ]
  },
  {
   "cell_type": "code",
   "execution_count": 74,
   "id": "f63d2f56c17a0e1d",
   "metadata": {
    "collapsed": false,
    "ExecuteTime": {
     "end_time": "2024-02-25T16:19:53.843132900Z",
     "start_time": "2024-02-25T16:19:53.789631Z"
    }
   },
   "outputs": [
    {
     "data": {
      "text/plain": "<bound method NDFrame.head of          User-ID         ISBN  Book-Rating\n0         276725   034545104X            0\n1         276726   0155061224            5\n2         276727   0446520802            0\n3         276729   052165615X            3\n4         276729   0521795028            6\n...          ...          ...          ...\n1149775   276704   1563526298            9\n1149776   276706   0679447156            0\n1149777   276709   0515107662           10\n1149778   276721   0590442449           10\n1149779   276723  05162443314            8\n\n[1149780 rows x 3 columns]>"
     },
     "execution_count": 74,
     "metadata": {},
     "output_type": "execute_result"
    }
   ],
   "source": [
    "ratings.head"
   ]
  },
  {
   "cell_type": "code",
   "execution_count": 75,
   "id": "f885d93cbdbc139c",
   "metadata": {
    "collapsed": false,
    "ExecuteTime": {
     "end_time": "2024-02-25T16:19:53.844132900Z",
     "start_time": "2024-02-25T16:19:53.799064Z"
    }
   },
   "outputs": [
    {
     "name": "stdout",
     "output_type": "stream",
     "text": [
      "(271360, 8)\n",
      "(278858, 3)\n",
      "(1149780, 3)\n"
     ]
    }
   ],
   "source": [
    "print(books.shape)\n",
    "print(users.shape)\n",
    "print(ratings.shape)\n"
   ]
  },
  {
   "cell_type": "code",
   "execution_count": 76,
   "id": "50f00c8bf9892510",
   "metadata": {
    "collapsed": false,
    "ExecuteTime": {
     "end_time": "2024-02-25T16:19:53.847131Z",
     "start_time": "2024-02-25T16:19:53.808547400Z"
    }
   },
   "outputs": [
    {
     "name": "stdout",
     "output_type": "stream",
     "text": [
      "(271360, 8)\n"
     ]
    }
   ],
   "source": [
    "print(books.shape)"
   ]
  },
  {
   "cell_type": "code",
   "execution_count": 77,
   "id": "70b3eb0f6cd1a024",
   "metadata": {
    "collapsed": false,
    "ExecuteTime": {
     "end_time": "2024-02-25T16:19:54.062814400Z",
     "start_time": "2024-02-25T16:19:53.814152200Z"
    }
   },
   "outputs": [
    {
     "name": "stdout",
     "output_type": "stream",
     "text": [
      "ISBN                   0\n",
      "Book-Title             0\n",
      "Book-Author            2\n",
      "Year-Of-Publication    0\n",
      "Publisher              2\n",
      "Image-URL-S            0\n",
      "Image-URL-M            0\n",
      "Image-URL-L            3\n",
      "dtype: int64\n"
     ]
    }
   ],
   "source": [
    "print(books.isnull().sum())"
   ]
  },
  {
   "cell_type": "code",
   "execution_count": 78,
   "id": "7f3454aef3124ad2",
   "metadata": {
    "collapsed": false,
    "ExecuteTime": {
     "end_time": "2024-02-25T16:19:54.118781800Z",
     "start_time": "2024-02-25T16:19:53.911903200Z"
    }
   },
   "outputs": [
    {
     "name": "stdout",
     "output_type": "stream",
     "text": [
      "User-ID          0\n",
      "Location         0\n",
      "Age         110762\n",
      "dtype: int64\n",
      "User-ID        0\n",
      "ISBN           0\n",
      "Book-Rating    0\n",
      "dtype: int64\n"
     ]
    }
   ],
   "source": [
    "print(users.isnull().sum())\n",
    "print(ratings.isnull().sum())"
   ]
  },
  {
   "cell_type": "code",
   "execution_count": 79,
   "id": "5aeadf04042a0fc9",
   "metadata": {
    "collapsed": false,
    "ExecuteTime": {
     "end_time": "2024-02-25T16:19:55.182478800Z",
     "start_time": "2024-02-25T16:19:53.994860900Z"
    }
   },
   "outputs": [
    {
     "name": "stdout",
     "output_type": "stream",
     "text": [
      "0\n",
      "0\n",
      "0\n"
     ]
    }
   ],
   "source": [
    "print(books.duplicated().sum())\n",
    "print(users.duplicated().sum())\n",
    "print(ratings.duplicated().sum())\n"
   ]
  },
  {
   "cell_type": "markdown",
   "id": "bf08d0662f460e3e",
   "metadata": {
    "collapsed": false
   },
   "source": []
  },
  {
   "cell_type": "markdown",
   "id": "95f236a6a88aa56d",
   "metadata": {
    "collapsed": false
   },
   "source": [
    "Popularity Based Recommendation System"
   ]
  },
  {
   "cell_type": "markdown",
   "id": "12cfe73ca52a6a79",
   "metadata": {
    "collapsed": false
   },
   "source": []
  },
  {
   "cell_type": "code",
   "execution_count": 80,
   "id": "554cdbded21a1a0a",
   "metadata": {
    "collapsed": false,
    "ExecuteTime": {
     "end_time": "2024-02-25T16:19:56.286402600Z",
     "start_time": "2024-02-25T16:19:55.178481500Z"
    }
   },
   "outputs": [],
   "source": [
    "ratings_and_users=ratings.merge(books,on='ISBN')"
   ]
  },
  {
   "cell_type": "code",
   "execution_count": 81,
   "id": "3009bf9b7436ea10",
   "metadata": {
    "collapsed": false,
    "ExecuteTime": {
     "end_time": "2024-02-25T16:19:56.309330500Z",
     "start_time": "2024-02-25T16:19:56.287404200Z"
    }
   },
   "outputs": [
    {
     "data": {
      "text/plain": "         User-ID        ISBN  Book-Rating  \\\n0         276725  034545104X            0   \n1         276726  0155061224            5   \n2         276727  0446520802            0   \n3         276729  052165615X            3   \n4         276729  0521795028            6   \n...          ...         ...          ...   \n1031131   276704  0876044011            0   \n1031132   276704  1563526298            9   \n1031133   276706  0679447156            0   \n1031134   276709  0515107662           10   \n1031135   276721  0590442449           10   \n\n                                                Book-Title        Book-Author  \\\n0                                     Flesh Tones: A Novel         M. J. Rose   \n1                                         Rites of Passage         Judith Rae   \n2                                             The Notebook    Nicholas Sparks   \n3                                           Help!: Level 1      Philip Prowse   \n4        The Amsterdam Connection : Level 4 (Cambridge ...        Sue Leather   \n...                                                    ...                ...   \n1031131  Edgar Cayce on the Akashic Records: The Book o...  Kevin J. Todeschi   \n1031132  Get Clark Smart : The Ultimate Guide for the S...       Clark Howard   \n1031133  Eight Weeks to Optimum Health: A Proven Progra...        Andrew Weil   \n1031134   The Sherbrooke Bride (Bride Trilogy (Paperback))  Catherine Coulter   \n1031135                                  Fourth Grade Rats     Jerry Spinelli   \n\n        Year-Of-Publication  \\\n0                      2002   \n1                      2001   \n2                      1996   \n3                      1999   \n4                      2001   \n...                     ...   \n1031131                1998   \n1031132                2000   \n1031133                1997   \n1031134                1996   \n1031135                1996   \n\n                                                 Publisher  \\\n0                                         Ballantine Books   \n1                                                   Heinle   \n2                                             Warner Books   \n3                               Cambridge University Press   \n4                               Cambridge University Press   \n...                                                    ...   \n1031131  A.R.E. Press (Association of Research &amp; Enlig   \n1031132                                   Longstreet Press   \n1031133                                    Alfred A. Knopf   \n1031134                                         Jove Books   \n1031135                                         Scholastic   \n\n                                               Image-URL-S  \\\n0        http://images.amazon.com/images/P/034545104X.0...   \n1        http://images.amazon.com/images/P/0155061224.0...   \n2        http://images.amazon.com/images/P/0446520802.0...   \n3        http://images.amazon.com/images/P/052165615X.0...   \n4        http://images.amazon.com/images/P/0521795028.0...   \n...                                                    ...   \n1031131  http://images.amazon.com/images/P/0876044011.0...   \n1031132  http://images.amazon.com/images/P/1563526298.0...   \n1031133  http://images.amazon.com/images/P/0679447156.0...   \n1031134  http://images.amazon.com/images/P/0515107662.0...   \n1031135  http://images.amazon.com/images/P/0590442449.0...   \n\n                                               Image-URL-M  \\\n0        http://images.amazon.com/images/P/034545104X.0...   \n1        http://images.amazon.com/images/P/0155061224.0...   \n2        http://images.amazon.com/images/P/0446520802.0...   \n3        http://images.amazon.com/images/P/052165615X.0...   \n4        http://images.amazon.com/images/P/0521795028.0...   \n...                                                    ...   \n1031131  http://images.amazon.com/images/P/0876044011.0...   \n1031132  http://images.amazon.com/images/P/1563526298.0...   \n1031133  http://images.amazon.com/images/P/0679447156.0...   \n1031134  http://images.amazon.com/images/P/0515107662.0...   \n1031135  http://images.amazon.com/images/P/0590442449.0...   \n\n                                               Image-URL-L  \n0        http://images.amazon.com/images/P/034545104X.0...  \n1        http://images.amazon.com/images/P/0155061224.0...  \n2        http://images.amazon.com/images/P/0446520802.0...  \n3        http://images.amazon.com/images/P/052165615X.0...  \n4        http://images.amazon.com/images/P/0521795028.0...  \n...                                                    ...  \n1031131  http://images.amazon.com/images/P/0876044011.0...  \n1031132  http://images.amazon.com/images/P/1563526298.0...  \n1031133  http://images.amazon.com/images/P/0679447156.0...  \n1031134  http://images.amazon.com/images/P/0515107662.0...  \n1031135  http://images.amazon.com/images/P/0590442449.0...  \n\n[1031136 rows x 10 columns]",
      "text/html": "<div>\n<style scoped>\n    .dataframe tbody tr th:only-of-type {\n        vertical-align: middle;\n    }\n\n    .dataframe tbody tr th {\n        vertical-align: top;\n    }\n\n    .dataframe thead th {\n        text-align: right;\n    }\n</style>\n<table border=\"1\" class=\"dataframe\">\n  <thead>\n    <tr style=\"text-align: right;\">\n      <th></th>\n      <th>User-ID</th>\n      <th>ISBN</th>\n      <th>Book-Rating</th>\n      <th>Book-Title</th>\n      <th>Book-Author</th>\n      <th>Year-Of-Publication</th>\n      <th>Publisher</th>\n      <th>Image-URL-S</th>\n      <th>Image-URL-M</th>\n      <th>Image-URL-L</th>\n    </tr>\n  </thead>\n  <tbody>\n    <tr>\n      <th>0</th>\n      <td>276725</td>\n      <td>034545104X</td>\n      <td>0</td>\n      <td>Flesh Tones: A Novel</td>\n      <td>M. J. Rose</td>\n      <td>2002</td>\n      <td>Ballantine Books</td>\n      <td>http://images.amazon.com/images/P/034545104X.0...</td>\n      <td>http://images.amazon.com/images/P/034545104X.0...</td>\n      <td>http://images.amazon.com/images/P/034545104X.0...</td>\n    </tr>\n    <tr>\n      <th>1</th>\n      <td>276726</td>\n      <td>0155061224</td>\n      <td>5</td>\n      <td>Rites of Passage</td>\n      <td>Judith Rae</td>\n      <td>2001</td>\n      <td>Heinle</td>\n      <td>http://images.amazon.com/images/P/0155061224.0...</td>\n      <td>http://images.amazon.com/images/P/0155061224.0...</td>\n      <td>http://images.amazon.com/images/P/0155061224.0...</td>\n    </tr>\n    <tr>\n      <th>2</th>\n      <td>276727</td>\n      <td>0446520802</td>\n      <td>0</td>\n      <td>The Notebook</td>\n      <td>Nicholas Sparks</td>\n      <td>1996</td>\n      <td>Warner Books</td>\n      <td>http://images.amazon.com/images/P/0446520802.0...</td>\n      <td>http://images.amazon.com/images/P/0446520802.0...</td>\n      <td>http://images.amazon.com/images/P/0446520802.0...</td>\n    </tr>\n    <tr>\n      <th>3</th>\n      <td>276729</td>\n      <td>052165615X</td>\n      <td>3</td>\n      <td>Help!: Level 1</td>\n      <td>Philip Prowse</td>\n      <td>1999</td>\n      <td>Cambridge University Press</td>\n      <td>http://images.amazon.com/images/P/052165615X.0...</td>\n      <td>http://images.amazon.com/images/P/052165615X.0...</td>\n      <td>http://images.amazon.com/images/P/052165615X.0...</td>\n    </tr>\n    <tr>\n      <th>4</th>\n      <td>276729</td>\n      <td>0521795028</td>\n      <td>6</td>\n      <td>The Amsterdam Connection : Level 4 (Cambridge ...</td>\n      <td>Sue Leather</td>\n      <td>2001</td>\n      <td>Cambridge University Press</td>\n      <td>http://images.amazon.com/images/P/0521795028.0...</td>\n      <td>http://images.amazon.com/images/P/0521795028.0...</td>\n      <td>http://images.amazon.com/images/P/0521795028.0...</td>\n    </tr>\n    <tr>\n      <th>...</th>\n      <td>...</td>\n      <td>...</td>\n      <td>...</td>\n      <td>...</td>\n      <td>...</td>\n      <td>...</td>\n      <td>...</td>\n      <td>...</td>\n      <td>...</td>\n      <td>...</td>\n    </tr>\n    <tr>\n      <th>1031131</th>\n      <td>276704</td>\n      <td>0876044011</td>\n      <td>0</td>\n      <td>Edgar Cayce on the Akashic Records: The Book o...</td>\n      <td>Kevin J. Todeschi</td>\n      <td>1998</td>\n      <td>A.R.E. Press (Association of Research &amp;amp; Enlig</td>\n      <td>http://images.amazon.com/images/P/0876044011.0...</td>\n      <td>http://images.amazon.com/images/P/0876044011.0...</td>\n      <td>http://images.amazon.com/images/P/0876044011.0...</td>\n    </tr>\n    <tr>\n      <th>1031132</th>\n      <td>276704</td>\n      <td>1563526298</td>\n      <td>9</td>\n      <td>Get Clark Smart : The Ultimate Guide for the S...</td>\n      <td>Clark Howard</td>\n      <td>2000</td>\n      <td>Longstreet Press</td>\n      <td>http://images.amazon.com/images/P/1563526298.0...</td>\n      <td>http://images.amazon.com/images/P/1563526298.0...</td>\n      <td>http://images.amazon.com/images/P/1563526298.0...</td>\n    </tr>\n    <tr>\n      <th>1031133</th>\n      <td>276706</td>\n      <td>0679447156</td>\n      <td>0</td>\n      <td>Eight Weeks to Optimum Health: A Proven Progra...</td>\n      <td>Andrew Weil</td>\n      <td>1997</td>\n      <td>Alfred A. Knopf</td>\n      <td>http://images.amazon.com/images/P/0679447156.0...</td>\n      <td>http://images.amazon.com/images/P/0679447156.0...</td>\n      <td>http://images.amazon.com/images/P/0679447156.0...</td>\n    </tr>\n    <tr>\n      <th>1031134</th>\n      <td>276709</td>\n      <td>0515107662</td>\n      <td>10</td>\n      <td>The Sherbrooke Bride (Bride Trilogy (Paperback))</td>\n      <td>Catherine Coulter</td>\n      <td>1996</td>\n      <td>Jove Books</td>\n      <td>http://images.amazon.com/images/P/0515107662.0...</td>\n      <td>http://images.amazon.com/images/P/0515107662.0...</td>\n      <td>http://images.amazon.com/images/P/0515107662.0...</td>\n    </tr>\n    <tr>\n      <th>1031135</th>\n      <td>276721</td>\n      <td>0590442449</td>\n      <td>10</td>\n      <td>Fourth Grade Rats</td>\n      <td>Jerry Spinelli</td>\n      <td>1996</td>\n      <td>Scholastic</td>\n      <td>http://images.amazon.com/images/P/0590442449.0...</td>\n      <td>http://images.amazon.com/images/P/0590442449.0...</td>\n      <td>http://images.amazon.com/images/P/0590442449.0...</td>\n    </tr>\n  </tbody>\n</table>\n<p>1031136 rows × 10 columns</p>\n</div>"
     },
     "execution_count": 81,
     "metadata": {},
     "output_type": "execute_result"
    }
   ],
   "source": [
    "ratings_and_users"
   ]
  },
  {
   "cell_type": "code",
   "execution_count": 82,
   "id": "7bee418b1083b94f",
   "metadata": {
    "collapsed": false,
    "ExecuteTime": {
     "end_time": "2024-02-25T16:19:56.334315100Z",
     "start_time": "2024-02-25T16:19:56.305569Z"
    }
   },
   "outputs": [
    {
     "data": {
      "text/plain": "(1031136, 10)"
     },
     "execution_count": 82,
     "metadata": {},
     "output_type": "execute_result"
    }
   ],
   "source": [
    "ratings_and_users.shape"
   ]
  },
  {
   "cell_type": "code",
   "execution_count": 83,
   "id": "734906fb3f2c2764",
   "metadata": {
    "collapsed": false,
    "ExecuteTime": {
     "end_time": "2024-02-25T16:19:57.709070500Z",
     "start_time": "2024-02-25T16:19:56.312329700Z"
    }
   },
   "outputs": [
    {
     "data": {
      "text/plain": "                                               Book-Title  Rating_Count\n0        A Light in the Storm: The Civil War Diary of ...             4\n1                                   Always Have Popsicles             1\n2                    Apple Magic (The Collector's series)             1\n3        Ask Lily (Young Women of Faith: Lily Series, ...             1\n4        Beyond IBM: Leadership Marketing and Finance ...             1\n...                                                   ...           ...\n241066                                      Ã?Â?lpiraten.             2\n241067                     Ã?Â?rger mit Produkt X. Roman.             4\n241068                                Ã?Â?sterlich leben.             1\n241069                              Ã?Â?stlich der Berge.             3\n241070                                  Ã?Â?thique en toc             2\n\n[241071 rows x 2 columns]",
      "text/html": "<div>\n<style scoped>\n    .dataframe tbody tr th:only-of-type {\n        vertical-align: middle;\n    }\n\n    .dataframe tbody tr th {\n        vertical-align: top;\n    }\n\n    .dataframe thead th {\n        text-align: right;\n    }\n</style>\n<table border=\"1\" class=\"dataframe\">\n  <thead>\n    <tr style=\"text-align: right;\">\n      <th></th>\n      <th>Book-Title</th>\n      <th>Rating_Count</th>\n    </tr>\n  </thead>\n  <tbody>\n    <tr>\n      <th>0</th>\n      <td>A Light in the Storm: The Civil War Diary of ...</td>\n      <td>4</td>\n    </tr>\n    <tr>\n      <th>1</th>\n      <td>Always Have Popsicles</td>\n      <td>1</td>\n    </tr>\n    <tr>\n      <th>2</th>\n      <td>Apple Magic (The Collector's series)</td>\n      <td>1</td>\n    </tr>\n    <tr>\n      <th>3</th>\n      <td>Ask Lily (Young Women of Faith: Lily Series, ...</td>\n      <td>1</td>\n    </tr>\n    <tr>\n      <th>4</th>\n      <td>Beyond IBM: Leadership Marketing and Finance ...</td>\n      <td>1</td>\n    </tr>\n    <tr>\n      <th>...</th>\n      <td>...</td>\n      <td>...</td>\n    </tr>\n    <tr>\n      <th>241066</th>\n      <td>Ã?Â?lpiraten.</td>\n      <td>2</td>\n    </tr>\n    <tr>\n      <th>241067</th>\n      <td>Ã?Â?rger mit Produkt X. Roman.</td>\n      <td>4</td>\n    </tr>\n    <tr>\n      <th>241068</th>\n      <td>Ã?Â?sterlich leben.</td>\n      <td>1</td>\n    </tr>\n    <tr>\n      <th>241069</th>\n      <td>Ã?Â?stlich der Berge.</td>\n      <td>3</td>\n    </tr>\n    <tr>\n      <th>241070</th>\n      <td>Ã?Â?thique en toc</td>\n      <td>2</td>\n    </tr>\n  </tbody>\n</table>\n<p>241071 rows × 2 columns</p>\n</div>"
     },
     "execution_count": 83,
     "metadata": {},
     "output_type": "execute_result"
    }
   ],
   "source": [
    "rating_count=ratings_and_users.groupby('Book-Title').count()['Book-Rating'].reset_index()\n",
    "rating_count.rename(columns={'Book-Rating':'Rating_Count'}, inplace=True)\n",
    "rating_count\n",
    "\n"
   ]
  },
  {
   "cell_type": "code",
   "execution_count": 86,
   "id": "d6e3a15a63a931a2",
   "metadata": {
    "collapsed": false,
    "ExecuteTime": {
     "end_time": "2024-02-25T16:21:12.455665200Z",
     "start_time": "2024-02-25T16:21:11.373720300Z"
    }
   },
   "outputs": [],
   "source": [
    "custom_agg = ratings_and_users.groupby('Book-Title')['Book-Rating'].agg(mean_rating='mean').reset_index()\n"
   ]
  },
  {
   "cell_type": "markdown",
   "source": [],
   "metadata": {
    "collapsed": false
   },
   "id": "a9034c8ebf5d67df"
  },
  {
   "cell_type": "code",
   "execution_count": 97,
   "id": "e0221fe1a4bb227b",
   "metadata": {
    "collapsed": false,
    "ExecuteTime": {
     "end_time": "2024-02-25T16:33:04.847419700Z",
     "start_time": "2024-02-25T16:33:04.835216800Z"
    }
   },
   "outputs": [
    {
     "data": {
      "text/plain": "                                               Book-Title  mean_rating\n0        A Light in the Storm: The Civil War Diary of ...     2.250000\n1                                   Always Have Popsicles     0.000000\n2                    Apple Magic (The Collector's series)     0.000000\n3        Ask Lily (Young Women of Faith: Lily Series, ...     8.000000\n4        Beyond IBM: Leadership Marketing and Finance ...     0.000000\n...                                                   ...          ...\n241066                                      Ã?Â?lpiraten.     0.000000\n241067                     Ã?Â?rger mit Produkt X. Roman.     5.250000\n241068                                Ã?Â?sterlich leben.     7.000000\n241069                              Ã?Â?stlich der Berge.     2.666667\n241070                                  Ã?Â?thique en toc     4.000000\n\n[241071 rows x 2 columns]",
      "text/html": "<div>\n<style scoped>\n    .dataframe tbody tr th:only-of-type {\n        vertical-align: middle;\n    }\n\n    .dataframe tbody tr th {\n        vertical-align: top;\n    }\n\n    .dataframe thead th {\n        text-align: right;\n    }\n</style>\n<table border=\"1\" class=\"dataframe\">\n  <thead>\n    <tr style=\"text-align: right;\">\n      <th></th>\n      <th>Book-Title</th>\n      <th>mean_rating</th>\n    </tr>\n  </thead>\n  <tbody>\n    <tr>\n      <th>0</th>\n      <td>A Light in the Storm: The Civil War Diary of ...</td>\n      <td>2.250000</td>\n    </tr>\n    <tr>\n      <th>1</th>\n      <td>Always Have Popsicles</td>\n      <td>0.000000</td>\n    </tr>\n    <tr>\n      <th>2</th>\n      <td>Apple Magic (The Collector's series)</td>\n      <td>0.000000</td>\n    </tr>\n    <tr>\n      <th>3</th>\n      <td>Ask Lily (Young Women of Faith: Lily Series, ...</td>\n      <td>8.000000</td>\n    </tr>\n    <tr>\n      <th>4</th>\n      <td>Beyond IBM: Leadership Marketing and Finance ...</td>\n      <td>0.000000</td>\n    </tr>\n    <tr>\n      <th>...</th>\n      <td>...</td>\n      <td>...</td>\n    </tr>\n    <tr>\n      <th>241066</th>\n      <td>Ã?Â?lpiraten.</td>\n      <td>0.000000</td>\n    </tr>\n    <tr>\n      <th>241067</th>\n      <td>Ã?Â?rger mit Produkt X. Roman.</td>\n      <td>5.250000</td>\n    </tr>\n    <tr>\n      <th>241068</th>\n      <td>Ã?Â?sterlich leben.</td>\n      <td>7.000000</td>\n    </tr>\n    <tr>\n      <th>241069</th>\n      <td>Ã?Â?stlich der Berge.</td>\n      <td>2.666667</td>\n    </tr>\n    <tr>\n      <th>241070</th>\n      <td>Ã?Â?thique en toc</td>\n      <td>4.000000</td>\n    </tr>\n  </tbody>\n</table>\n<p>241071 rows × 2 columns</p>\n</div>"
     },
     "execution_count": 97,
     "metadata": {},
     "output_type": "execute_result"
    }
   ],
   "source": [
    "\n",
    "custom_agg"
   ]
  },
  {
   "cell_type": "code",
   "execution_count": 88,
   "id": "26ba3dfe-563b-4da9-884b-e6e4c54d2d9b",
   "metadata": {
    "ExecuteTime": {
     "end_time": "2024-02-25T16:24:24.779143400Z",
     "start_time": "2024-02-25T16:24:24.525069200Z"
    }
   },
   "outputs": [
    {
     "data": {
      "text/plain": "                                               Book-Title  Rating_Count  \\\n0        A Light in the Storm: The Civil War Diary of ...             4   \n1                                   Always Have Popsicles             1   \n2                    Apple Magic (The Collector's series)             1   \n3        Ask Lily (Young Women of Faith: Lily Series, ...             1   \n4        Beyond IBM: Leadership Marketing and Finance ...             1   \n...                                                   ...           ...   \n241066                                      Ã?Â?lpiraten.             2   \n241067                     Ã?Â?rger mit Produkt X. Roman.             4   \n241068                                Ã?Â?sterlich leben.             1   \n241069                              Ã?Â?stlich der Berge.             3   \n241070                                  Ã?Â?thique en toc             2   \n\n        mean_rating  \n0          2.250000  \n1          0.000000  \n2          0.000000  \n3          8.000000  \n4          0.000000  \n...             ...  \n241066     0.000000  \n241067     5.250000  \n241068     7.000000  \n241069     2.666667  \n241070     4.000000  \n\n[241071 rows x 3 columns]",
      "text/html": "<div>\n<style scoped>\n    .dataframe tbody tr th:only-of-type {\n        vertical-align: middle;\n    }\n\n    .dataframe tbody tr th {\n        vertical-align: top;\n    }\n\n    .dataframe thead th {\n        text-align: right;\n    }\n</style>\n<table border=\"1\" class=\"dataframe\">\n  <thead>\n    <tr style=\"text-align: right;\">\n      <th></th>\n      <th>Book-Title</th>\n      <th>Rating_Count</th>\n      <th>mean_rating</th>\n    </tr>\n  </thead>\n  <tbody>\n    <tr>\n      <th>0</th>\n      <td>A Light in the Storm: The Civil War Diary of ...</td>\n      <td>4</td>\n      <td>2.250000</td>\n    </tr>\n    <tr>\n      <th>1</th>\n      <td>Always Have Popsicles</td>\n      <td>1</td>\n      <td>0.000000</td>\n    </tr>\n    <tr>\n      <th>2</th>\n      <td>Apple Magic (The Collector's series)</td>\n      <td>1</td>\n      <td>0.000000</td>\n    </tr>\n    <tr>\n      <th>3</th>\n      <td>Ask Lily (Young Women of Faith: Lily Series, ...</td>\n      <td>1</td>\n      <td>8.000000</td>\n    </tr>\n    <tr>\n      <th>4</th>\n      <td>Beyond IBM: Leadership Marketing and Finance ...</td>\n      <td>1</td>\n      <td>0.000000</td>\n    </tr>\n    <tr>\n      <th>...</th>\n      <td>...</td>\n      <td>...</td>\n      <td>...</td>\n    </tr>\n    <tr>\n      <th>241066</th>\n      <td>Ã?Â?lpiraten.</td>\n      <td>2</td>\n      <td>0.000000</td>\n    </tr>\n    <tr>\n      <th>241067</th>\n      <td>Ã?Â?rger mit Produkt X. Roman.</td>\n      <td>4</td>\n      <td>5.250000</td>\n    </tr>\n    <tr>\n      <th>241068</th>\n      <td>Ã?Â?sterlich leben.</td>\n      <td>1</td>\n      <td>7.000000</td>\n    </tr>\n    <tr>\n      <th>241069</th>\n      <td>Ã?Â?stlich der Berge.</td>\n      <td>3</td>\n      <td>2.666667</td>\n    </tr>\n    <tr>\n      <th>241070</th>\n      <td>Ã?Â?thique en toc</td>\n      <td>2</td>\n      <td>4.000000</td>\n    </tr>\n  </tbody>\n</table>\n<p>241071 rows × 3 columns</p>\n</div>"
     },
     "execution_count": 88,
     "metadata": {},
     "output_type": "execute_result"
    }
   ],
   "source": [
    "popularity_rating_df=rating_count.merge(custom_agg,on='Book-Title')\n",
    "popularity_rating_df\n"
   ]
  },
  {
   "cell_type": "code",
   "outputs": [
    {
     "data": {
      "text/plain": "                                               Book-Title  Rating_Count  \\\n80434   Harry Potter and the Prisoner of Azkaban (Book 3)           428   \n80422        Harry Potter and the Goblet of Fire (Book 4)           387   \n80441      Harry Potter and the Sorcerer's Stone (Book 1)           278   \n80426   Harry Potter and the Order of the Phoenix (Boo...           347   \n60582       Ender's Game (Ender Wiggins Saga (Paperback))           249   \n80414    Harry Potter and the Chamber of Secrets (Book 2)           556   \n191612  The Hobbit : The Enchanting Prelude to The Lor...           281   \n187377  The Fellowship of the Ring (The Lord of the Ri...           368   \n80445   Harry Potter and the Sorcerer's Stone (Harry P...           575   \n211384     The Two Towers (The Lord of the Rings, Part 2)           260   \n219741                              To Kill a Mockingbird           510   \n183573                                  The Da Vinci Code           898   \n187880                 The Five People You Meet in Heaven           430   \n180556                             The Catcher in the Rye           449   \n204672  The Return of the King (The Lord of the Rings,...           211   \n196326                          The Lovely Bones: A Novel          1295   \n190081                                   The Great Gatsby           205   \n764                                                  1984           284   \n144165                           Prodigal Summer: A Novel           253   \n128670                                         Neverwhere           265   \n206502                            The Secret Life of Bees           774   \n168719  Stupid White Men ...and Other Sorry Excuses fo...           283   \n223135  Tuesdays with Morrie: An Old Man, a Young Man,...           493   \n204387                The Red Tent (Bestselling Backlist)           723   \n27295                                     Brave New World           226   \n191589               The Hitchhiker's Guide to the Galaxy           268   \n129379   Nickel and Dimed: On (Not) Getting By in America           335   \n209778                                    The Tao of Pooh           211   \n14607                                         Animal Farm           233   \n93381                                       Into the Wild           252   \n63867                                      Fahrenheit 451           409   \n7373    A Walk in the Woods: Rediscovering America on ...           205   \n74750                           Girl with a Pearl Earring           526   \n129444                                              Night           202   \n136145                                          Outlander           283   \n209209      The Subtle Knife (His Dark Materials, Book 2)           225   \n181699  The Color of Water: A Black Man's Tribute to H...           223   \n233370  Where the Heart Is (Oprah's Book Club (Paperba...           585   \n156102                     Seabiscuit: An American Legend           275   \n107962                                         Life of Pi           664   \n176845                                     The Bean Trees           389   \n2281    A Child Called \\It\\\": One Child's Courage to S...           265   \n8434                                       ANGELA'S ASHES           279   \n83432                                       High Fidelity           247   \n76343                                         Good in Bed           490   \n64931   Fast Food Nation: The Dark Side of the All-Ame...           321   \n12700                                       American Gods           302   \n161645                                 Skipping Christmas           322   \n105777  Left Behind: A Novel of the Earth's Last Days ...           318   \n189551    The Golden Compass (His Dark Materials, Book 1)           336   \n\n        mean_rating  \n80434      5.852804  \n80422      5.824289  \n80441      5.737410  \n80426      5.501441  \n60582      5.409639  \n80414      5.183453  \n191612     5.007117  \n187377     4.948370  \n80445      4.895652  \n211384     4.880769  \n219741     4.700000  \n183573     4.642539  \n187880     4.551163  \n180556     4.545657  \n204672     4.497630  \n196326     4.468726  \n190081     4.458537  \n764        4.454225  \n144165     4.450593  \n128670     4.449057  \n206502     4.447028  \n168719     4.356890  \n223135     4.354970  \n204387     4.334716  \n27295      4.331858  \n191589     4.328358  \n129379     4.289552  \n209778     4.289100  \n14607      4.274678  \n93381      4.273810  \n63867      4.264059  \n7373       4.243902  \n74750      4.218631  \n129444     4.217822  \n136145     4.173145  \n209209     4.124444  \n181699     4.107623  \n233370     4.105983  \n156102     4.098182  \n107962     4.088855  \n176845     4.087404  \n2281       4.086792  \n8434       4.075269  \n83432      4.056680  \n76343      4.055102  \n64931      4.037383  \n12700      4.006623  \n161645     4.006211  \n105777     4.003145  \n189551     4.000000  ",
      "text/html": "<div>\n<style scoped>\n    .dataframe tbody tr th:only-of-type {\n        vertical-align: middle;\n    }\n\n    .dataframe tbody tr th {\n        vertical-align: top;\n    }\n\n    .dataframe thead th {\n        text-align: right;\n    }\n</style>\n<table border=\"1\" class=\"dataframe\">\n  <thead>\n    <tr style=\"text-align: right;\">\n      <th></th>\n      <th>Book-Title</th>\n      <th>Rating_Count</th>\n      <th>mean_rating</th>\n    </tr>\n  </thead>\n  <tbody>\n    <tr>\n      <th>80434</th>\n      <td>Harry Potter and the Prisoner of Azkaban (Book 3)</td>\n      <td>428</td>\n      <td>5.852804</td>\n    </tr>\n    <tr>\n      <th>80422</th>\n      <td>Harry Potter and the Goblet of Fire (Book 4)</td>\n      <td>387</td>\n      <td>5.824289</td>\n    </tr>\n    <tr>\n      <th>80441</th>\n      <td>Harry Potter and the Sorcerer's Stone (Book 1)</td>\n      <td>278</td>\n      <td>5.737410</td>\n    </tr>\n    <tr>\n      <th>80426</th>\n      <td>Harry Potter and the Order of the Phoenix (Boo...</td>\n      <td>347</td>\n      <td>5.501441</td>\n    </tr>\n    <tr>\n      <th>60582</th>\n      <td>Ender's Game (Ender Wiggins Saga (Paperback))</td>\n      <td>249</td>\n      <td>5.409639</td>\n    </tr>\n    <tr>\n      <th>80414</th>\n      <td>Harry Potter and the Chamber of Secrets (Book 2)</td>\n      <td>556</td>\n      <td>5.183453</td>\n    </tr>\n    <tr>\n      <th>191612</th>\n      <td>The Hobbit : The Enchanting Prelude to The Lor...</td>\n      <td>281</td>\n      <td>5.007117</td>\n    </tr>\n    <tr>\n      <th>187377</th>\n      <td>The Fellowship of the Ring (The Lord of the Ri...</td>\n      <td>368</td>\n      <td>4.948370</td>\n    </tr>\n    <tr>\n      <th>80445</th>\n      <td>Harry Potter and the Sorcerer's Stone (Harry P...</td>\n      <td>575</td>\n      <td>4.895652</td>\n    </tr>\n    <tr>\n      <th>211384</th>\n      <td>The Two Towers (The Lord of the Rings, Part 2)</td>\n      <td>260</td>\n      <td>4.880769</td>\n    </tr>\n    <tr>\n      <th>219741</th>\n      <td>To Kill a Mockingbird</td>\n      <td>510</td>\n      <td>4.700000</td>\n    </tr>\n    <tr>\n      <th>183573</th>\n      <td>The Da Vinci Code</td>\n      <td>898</td>\n      <td>4.642539</td>\n    </tr>\n    <tr>\n      <th>187880</th>\n      <td>The Five People You Meet in Heaven</td>\n      <td>430</td>\n      <td>4.551163</td>\n    </tr>\n    <tr>\n      <th>180556</th>\n      <td>The Catcher in the Rye</td>\n      <td>449</td>\n      <td>4.545657</td>\n    </tr>\n    <tr>\n      <th>204672</th>\n      <td>The Return of the King (The Lord of the Rings,...</td>\n      <td>211</td>\n      <td>4.497630</td>\n    </tr>\n    <tr>\n      <th>196326</th>\n      <td>The Lovely Bones: A Novel</td>\n      <td>1295</td>\n      <td>4.468726</td>\n    </tr>\n    <tr>\n      <th>190081</th>\n      <td>The Great Gatsby</td>\n      <td>205</td>\n      <td>4.458537</td>\n    </tr>\n    <tr>\n      <th>764</th>\n      <td>1984</td>\n      <td>284</td>\n      <td>4.454225</td>\n    </tr>\n    <tr>\n      <th>144165</th>\n      <td>Prodigal Summer: A Novel</td>\n      <td>253</td>\n      <td>4.450593</td>\n    </tr>\n    <tr>\n      <th>128670</th>\n      <td>Neverwhere</td>\n      <td>265</td>\n      <td>4.449057</td>\n    </tr>\n    <tr>\n      <th>206502</th>\n      <td>The Secret Life of Bees</td>\n      <td>774</td>\n      <td>4.447028</td>\n    </tr>\n    <tr>\n      <th>168719</th>\n      <td>Stupid White Men ...and Other Sorry Excuses fo...</td>\n      <td>283</td>\n      <td>4.356890</td>\n    </tr>\n    <tr>\n      <th>223135</th>\n      <td>Tuesdays with Morrie: An Old Man, a Young Man,...</td>\n      <td>493</td>\n      <td>4.354970</td>\n    </tr>\n    <tr>\n      <th>204387</th>\n      <td>The Red Tent (Bestselling Backlist)</td>\n      <td>723</td>\n      <td>4.334716</td>\n    </tr>\n    <tr>\n      <th>27295</th>\n      <td>Brave New World</td>\n      <td>226</td>\n      <td>4.331858</td>\n    </tr>\n    <tr>\n      <th>191589</th>\n      <td>The Hitchhiker's Guide to the Galaxy</td>\n      <td>268</td>\n      <td>4.328358</td>\n    </tr>\n    <tr>\n      <th>129379</th>\n      <td>Nickel and Dimed: On (Not) Getting By in America</td>\n      <td>335</td>\n      <td>4.289552</td>\n    </tr>\n    <tr>\n      <th>209778</th>\n      <td>The Tao of Pooh</td>\n      <td>211</td>\n      <td>4.289100</td>\n    </tr>\n    <tr>\n      <th>14607</th>\n      <td>Animal Farm</td>\n      <td>233</td>\n      <td>4.274678</td>\n    </tr>\n    <tr>\n      <th>93381</th>\n      <td>Into the Wild</td>\n      <td>252</td>\n      <td>4.273810</td>\n    </tr>\n    <tr>\n      <th>63867</th>\n      <td>Fahrenheit 451</td>\n      <td>409</td>\n      <td>4.264059</td>\n    </tr>\n    <tr>\n      <th>7373</th>\n      <td>A Walk in the Woods: Rediscovering America on ...</td>\n      <td>205</td>\n      <td>4.243902</td>\n    </tr>\n    <tr>\n      <th>74750</th>\n      <td>Girl with a Pearl Earring</td>\n      <td>526</td>\n      <td>4.218631</td>\n    </tr>\n    <tr>\n      <th>129444</th>\n      <td>Night</td>\n      <td>202</td>\n      <td>4.217822</td>\n    </tr>\n    <tr>\n      <th>136145</th>\n      <td>Outlander</td>\n      <td>283</td>\n      <td>4.173145</td>\n    </tr>\n    <tr>\n      <th>209209</th>\n      <td>The Subtle Knife (His Dark Materials, Book 2)</td>\n      <td>225</td>\n      <td>4.124444</td>\n    </tr>\n    <tr>\n      <th>181699</th>\n      <td>The Color of Water: A Black Man's Tribute to H...</td>\n      <td>223</td>\n      <td>4.107623</td>\n    </tr>\n    <tr>\n      <th>233370</th>\n      <td>Where the Heart Is (Oprah's Book Club (Paperba...</td>\n      <td>585</td>\n      <td>4.105983</td>\n    </tr>\n    <tr>\n      <th>156102</th>\n      <td>Seabiscuit: An American Legend</td>\n      <td>275</td>\n      <td>4.098182</td>\n    </tr>\n    <tr>\n      <th>107962</th>\n      <td>Life of Pi</td>\n      <td>664</td>\n      <td>4.088855</td>\n    </tr>\n    <tr>\n      <th>176845</th>\n      <td>The Bean Trees</td>\n      <td>389</td>\n      <td>4.087404</td>\n    </tr>\n    <tr>\n      <th>2281</th>\n      <td>A Child Called \\It\\\": One Child's Courage to S...</td>\n      <td>265</td>\n      <td>4.086792</td>\n    </tr>\n    <tr>\n      <th>8434</th>\n      <td>ANGELA'S ASHES</td>\n      <td>279</td>\n      <td>4.075269</td>\n    </tr>\n    <tr>\n      <th>83432</th>\n      <td>High Fidelity</td>\n      <td>247</td>\n      <td>4.056680</td>\n    </tr>\n    <tr>\n      <th>76343</th>\n      <td>Good in Bed</td>\n      <td>490</td>\n      <td>4.055102</td>\n    </tr>\n    <tr>\n      <th>64931</th>\n      <td>Fast Food Nation: The Dark Side of the All-Ame...</td>\n      <td>321</td>\n      <td>4.037383</td>\n    </tr>\n    <tr>\n      <th>12700</th>\n      <td>American Gods</td>\n      <td>302</td>\n      <td>4.006623</td>\n    </tr>\n    <tr>\n      <th>161645</th>\n      <td>Skipping Christmas</td>\n      <td>322</td>\n      <td>4.006211</td>\n    </tr>\n    <tr>\n      <th>105777</th>\n      <td>Left Behind: A Novel of the Earth's Last Days ...</td>\n      <td>318</td>\n      <td>4.003145</td>\n    </tr>\n    <tr>\n      <th>189551</th>\n      <td>The Golden Compass (His Dark Materials, Book 1)</td>\n      <td>336</td>\n      <td>4.000000</td>\n    </tr>\n  </tbody>\n</table>\n</div>"
     },
     "execution_count": 100,
     "metadata": {},
     "output_type": "execute_result"
    }
   ],
   "source": [
    "popular_df = popularity_rating_df[popularity_rating_df['Rating_Count']>=200].sort_values('mean_rating',ascending=False).head(50)  #if rating is greater than 200\n",
    "popular_df"
   ],
   "metadata": {
    "collapsed": false,
    "ExecuteTime": {
     "end_time": "2024-02-25T16:35:59.927003100Z",
     "start_time": "2024-02-25T16:35:59.877362700Z"
    }
   },
   "id": "e75f891e055393d7",
   "execution_count": 100
  },
  {
   "cell_type": "code",
   "outputs": [
    {
     "data": {
      "text/plain": "                                            Book-Title          Book-Author  \\\n0    Harry Potter and the Prisoner of Azkaban (Book 3)        J. K. Rowling   \n3         Harry Potter and the Goblet of Fire (Book 4)        J. K. Rowling   \n5       Harry Potter and the Sorcerer's Stone (Book 1)        J. K. Rowling   \n9    Harry Potter and the Order of the Phoenix (Boo...        J. K. Rowling   \n13       Ender's Game (Ender Wiggins Saga (Paperback))     Orson Scott Card   \n17    Harry Potter and the Chamber of Secrets (Book 2)        J. K. Rowling   \n20   The Hobbit : The Enchanting Prelude to The Lor...       J.R.R. TOLKIEN   \n21   The Fellowship of the Ring (The Lord of the Ri...       J.R.R. TOLKIEN   \n30   Harry Potter and the Sorcerer's Stone (Harry P...        J. K. Rowling   \n32      The Two Towers (The Lord of the Rings, Part 2)       J.R.R. TOLKIEN   \n43                               To Kill a Mockingbird           Harper Lee   \n51                                   The Da Vinci Code            Dan Brown   \n57                  The Five People You Meet in Heaven          Mitch Albom   \n59                              The Catcher in the Rye        J.D. Salinger   \n66   The Return of the King (The Lord of the Rings,...       J.R.R. TOLKIEN   \n76                           The Lovely Bones: A Novel         Alice Sebold   \n77                                    The Great Gatsby  F. Scott Fitzgerald   \n79                                                1984        George Orwell   \n88                            Prodigal Summer: A Novel   Barbara Kingsolver   \n89                                          Neverwhere          Neil Gaiman   \n94                             The Secret Life of Bees        Sue Monk Kidd   \n100  Stupid White Men ...and Other Sorry Excuses fo...        Michael Moore   \n101  Tuesdays with Morrie: An Old Man, a Young Man,...          MITCH ALBOM   \n104                The Red Tent (Bestselling Backlist)        Anita Diamant   \n105                                    Brave New World        Aldous Huxley   \n110               The Hitchhiker's Guide to the Galaxy        Douglas Adams   \n119   Nickel and Dimed: On (Not) Getting By in America   Barbara Ehrenreich   \n121                                    The Tao of Pooh        Benjamin Hoff   \n123                                        Animal Farm        George Orwell   \n133                                      Into the Wild         Jon Krakauer   \n136                                     Fahrenheit 451         Ray Bradbury   \n149  A Walk in the Woods: Rediscovering America on ...          Bill Bryson   \n150                          Girl with a Pearl Earring      Tracy Chevalier   \n151                                              Night          Elie Wiesel   \n156                                          Outlander       DIANA GABALDON   \n162      The Subtle Knife (His Dark Materials, Book 2)       PHILIP PULLMAN   \n170  The Color of Water: A Black Man's Tribute to H...        James McBride   \n172  Where the Heart Is (Oprah's Book Club (Paperba...         Billie Letts   \n173                     Seabiscuit: An American Legend    LAURA HILLENBRAND   \n175                                         Life of Pi          Yann Martel   \n179                                     The Bean Trees   Barbara Kingsolver   \n182  A Child Called \\It\\\": One Child's Courage to S...          Dave Pelzer   \n184                                     ANGELA'S ASHES        Frank McCourt   \n186                                      High Fidelity          Nick Hornby   \n192                                        Good in Bed      Jennifer Weiner   \n194  Fast Food Nation: The Dark Side of the All-Ame...       Eric Schlosser   \n195                                      American Gods          Neil Gaiman   \n196                                 Skipping Christmas         JOHN GRISHAM   \n202  Left Behind: A Novel of the Earth's Last Days ...           Tim Lahaye   \n204    The Golden Compass (His Dark Materials, Book 1)       PHILIP PULLMAN   \n\n                                           Image-URL-M  Rating_Count  \\\n0    http://images.amazon.com/images/P/0439136350.0...           428   \n3    http://images.amazon.com/images/P/0439139597.0...           387   \n5    http://images.amazon.com/images/P/0590353403.0...           278   \n9    http://images.amazon.com/images/P/043935806X.0...           347   \n13   http://images.amazon.com/images/P/0312853238.0...           249   \n17   http://images.amazon.com/images/P/0439064872.0...           556   \n20   http://images.amazon.com/images/P/0345339681.0...           281   \n21   http://images.amazon.com/images/P/0345339703.0...           368   \n30   http://images.amazon.com/images/P/059035342X.0...           575   \n32   http://images.amazon.com/images/P/0345339711.0...           260   \n43   http://images.amazon.com/images/P/0446310786.0...           510   \n51   http://images.amazon.com/images/P/0385504209.0...           898   \n57   http://images.amazon.com/images/P/0786868716.0...           430   \n59   http://images.amazon.com/images/P/0316769487.0...           449   \n66   http://images.amazon.com/images/P/0345339738.0...           211   \n76   http://images.amazon.com/images/P/0316666343.0...          1295   \n77   http://images.amazon.com/images/P/185326041X.0...           205   \n79   http://images.amazon.com/images/P/0451524934.0...           284   \n88   http://images.amazon.com/images/P/0060959037.0...           253   \n89   http://images.amazon.com/images/P/0380789019.0...           265   \n94   http://images.amazon.com/images/P/0142001740.0...           774   \n100  http://images.amazon.com/images/P/0060392452.0...           283   \n101  http://images.amazon.com/images/P/0385484518.0...           493   \n104  http://images.amazon.com/images/P/0312195516.0...           723   \n105  http://images.amazon.com/images/P/0060809833.0...           226   \n110  http://images.amazon.com/images/P/0671461494.0...           268   \n119  http://images.amazon.com/images/P/0805063897.0...           335   \n121  http://images.amazon.com/images/P/0140067477.0...           211   \n123  http://images.amazon.com/images/P/0451526341.0...           233   \n133  http://images.amazon.com/images/P/0385486804.0...           252   \n136  http://images.amazon.com/images/P/3257208626.0...           409   \n149  http://images.amazon.com/images/P/0767902521.0...           205   \n150  http://images.amazon.com/images/P/0452282152.0...           526   \n151  http://images.amazon.com/images/P/0553272535.0...           202   \n156  http://images.amazon.com/images/P/0440222915.0...           283   \n162  http://images.amazon.com/images/P/0375823468.0...           225   \n170  http://images.amazon.com/images/P/1573225789.0...           223   \n172  http://images.amazon.com/images/P/0446672211.0...           585   \n173  http://images.amazon.com/images/P/0449005615.0...           275   \n175  http://images.amazon.com/images/P/0151008116.0...           664   \n179  http://images.amazon.com/images/P/0060915544.0...           389   \n182  http://images.amazon.com/images/P/1558743669.0...           265   \n184  http://images.amazon.com/images/P/0684874350.0...           279   \n186  http://images.amazon.com/images/P/1573225517.0...           247   \n192  http://images.amazon.com/images/P/0743418174.0...           490   \n194  http://images.amazon.com/images/P/0060938455.0...           321   \n195  http://images.amazon.com/images/P/0380789035.0...           302   \n196  http://images.amazon.com/images/P/0385505833.0...           322   \n202  http://images.amazon.com/images/P/0842329129.0...           318   \n204  http://images.amazon.com/images/P/037582345X.0...           336   \n\n     mean_rating  \n0       5.852804  \n3       5.824289  \n5       5.737410  \n9       5.501441  \n13      5.409639  \n17      5.183453  \n20      5.007117  \n21      4.948370  \n30      4.895652  \n32      4.880769  \n43      4.700000  \n51      4.642539  \n57      4.551163  \n59      4.545657  \n66      4.497630  \n76      4.468726  \n77      4.458537  \n79      4.454225  \n88      4.450593  \n89      4.449057  \n94      4.447028  \n100     4.356890  \n101     4.354970  \n104     4.334716  \n105     4.331858  \n110     4.328358  \n119     4.289552  \n121     4.289100  \n123     4.274678  \n133     4.273810  \n136     4.264059  \n149     4.243902  \n150     4.218631  \n151     4.217822  \n156     4.173145  \n162     4.124444  \n170     4.107623  \n172     4.105983  \n173     4.098182  \n175     4.088855  \n179     4.087404  \n182     4.086792  \n184     4.075269  \n186     4.056680  \n192     4.055102  \n194     4.037383  \n195     4.006623  \n196     4.006211  \n202     4.003145  \n204     4.000000  ",
      "text/html": "<div>\n<style scoped>\n    .dataframe tbody tr th:only-of-type {\n        vertical-align: middle;\n    }\n\n    .dataframe tbody tr th {\n        vertical-align: top;\n    }\n\n    .dataframe thead th {\n        text-align: right;\n    }\n</style>\n<table border=\"1\" class=\"dataframe\">\n  <thead>\n    <tr style=\"text-align: right;\">\n      <th></th>\n      <th>Book-Title</th>\n      <th>Book-Author</th>\n      <th>Image-URL-M</th>\n      <th>Rating_Count</th>\n      <th>mean_rating</th>\n    </tr>\n  </thead>\n  <tbody>\n    <tr>\n      <th>0</th>\n      <td>Harry Potter and the Prisoner of Azkaban (Book 3)</td>\n      <td>J. K. Rowling</td>\n      <td>http://images.amazon.com/images/P/0439136350.0...</td>\n      <td>428</td>\n      <td>5.852804</td>\n    </tr>\n    <tr>\n      <th>3</th>\n      <td>Harry Potter and the Goblet of Fire (Book 4)</td>\n      <td>J. K. Rowling</td>\n      <td>http://images.amazon.com/images/P/0439139597.0...</td>\n      <td>387</td>\n      <td>5.824289</td>\n    </tr>\n    <tr>\n      <th>5</th>\n      <td>Harry Potter and the Sorcerer's Stone (Book 1)</td>\n      <td>J. K. Rowling</td>\n      <td>http://images.amazon.com/images/P/0590353403.0...</td>\n      <td>278</td>\n      <td>5.737410</td>\n    </tr>\n    <tr>\n      <th>9</th>\n      <td>Harry Potter and the Order of the Phoenix (Boo...</td>\n      <td>J. K. Rowling</td>\n      <td>http://images.amazon.com/images/P/043935806X.0...</td>\n      <td>347</td>\n      <td>5.501441</td>\n    </tr>\n    <tr>\n      <th>13</th>\n      <td>Ender's Game (Ender Wiggins Saga (Paperback))</td>\n      <td>Orson Scott Card</td>\n      <td>http://images.amazon.com/images/P/0312853238.0...</td>\n      <td>249</td>\n      <td>5.409639</td>\n    </tr>\n    <tr>\n      <th>17</th>\n      <td>Harry Potter and the Chamber of Secrets (Book 2)</td>\n      <td>J. K. Rowling</td>\n      <td>http://images.amazon.com/images/P/0439064872.0...</td>\n      <td>556</td>\n      <td>5.183453</td>\n    </tr>\n    <tr>\n      <th>20</th>\n      <td>The Hobbit : The Enchanting Prelude to The Lor...</td>\n      <td>J.R.R. TOLKIEN</td>\n      <td>http://images.amazon.com/images/P/0345339681.0...</td>\n      <td>281</td>\n      <td>5.007117</td>\n    </tr>\n    <tr>\n      <th>21</th>\n      <td>The Fellowship of the Ring (The Lord of the Ri...</td>\n      <td>J.R.R. TOLKIEN</td>\n      <td>http://images.amazon.com/images/P/0345339703.0...</td>\n      <td>368</td>\n      <td>4.948370</td>\n    </tr>\n    <tr>\n      <th>30</th>\n      <td>Harry Potter and the Sorcerer's Stone (Harry P...</td>\n      <td>J. K. Rowling</td>\n      <td>http://images.amazon.com/images/P/059035342X.0...</td>\n      <td>575</td>\n      <td>4.895652</td>\n    </tr>\n    <tr>\n      <th>32</th>\n      <td>The Two Towers (The Lord of the Rings, Part 2)</td>\n      <td>J.R.R. TOLKIEN</td>\n      <td>http://images.amazon.com/images/P/0345339711.0...</td>\n      <td>260</td>\n      <td>4.880769</td>\n    </tr>\n    <tr>\n      <th>43</th>\n      <td>To Kill a Mockingbird</td>\n      <td>Harper Lee</td>\n      <td>http://images.amazon.com/images/P/0446310786.0...</td>\n      <td>510</td>\n      <td>4.700000</td>\n    </tr>\n    <tr>\n      <th>51</th>\n      <td>The Da Vinci Code</td>\n      <td>Dan Brown</td>\n      <td>http://images.amazon.com/images/P/0385504209.0...</td>\n      <td>898</td>\n      <td>4.642539</td>\n    </tr>\n    <tr>\n      <th>57</th>\n      <td>The Five People You Meet in Heaven</td>\n      <td>Mitch Albom</td>\n      <td>http://images.amazon.com/images/P/0786868716.0...</td>\n      <td>430</td>\n      <td>4.551163</td>\n    </tr>\n    <tr>\n      <th>59</th>\n      <td>The Catcher in the Rye</td>\n      <td>J.D. Salinger</td>\n      <td>http://images.amazon.com/images/P/0316769487.0...</td>\n      <td>449</td>\n      <td>4.545657</td>\n    </tr>\n    <tr>\n      <th>66</th>\n      <td>The Return of the King (The Lord of the Rings,...</td>\n      <td>J.R.R. TOLKIEN</td>\n      <td>http://images.amazon.com/images/P/0345339738.0...</td>\n      <td>211</td>\n      <td>4.497630</td>\n    </tr>\n    <tr>\n      <th>76</th>\n      <td>The Lovely Bones: A Novel</td>\n      <td>Alice Sebold</td>\n      <td>http://images.amazon.com/images/P/0316666343.0...</td>\n      <td>1295</td>\n      <td>4.468726</td>\n    </tr>\n    <tr>\n      <th>77</th>\n      <td>The Great Gatsby</td>\n      <td>F. Scott Fitzgerald</td>\n      <td>http://images.amazon.com/images/P/185326041X.0...</td>\n      <td>205</td>\n      <td>4.458537</td>\n    </tr>\n    <tr>\n      <th>79</th>\n      <td>1984</td>\n      <td>George Orwell</td>\n      <td>http://images.amazon.com/images/P/0451524934.0...</td>\n      <td>284</td>\n      <td>4.454225</td>\n    </tr>\n    <tr>\n      <th>88</th>\n      <td>Prodigal Summer: A Novel</td>\n      <td>Barbara Kingsolver</td>\n      <td>http://images.amazon.com/images/P/0060959037.0...</td>\n      <td>253</td>\n      <td>4.450593</td>\n    </tr>\n    <tr>\n      <th>89</th>\n      <td>Neverwhere</td>\n      <td>Neil Gaiman</td>\n      <td>http://images.amazon.com/images/P/0380789019.0...</td>\n      <td>265</td>\n      <td>4.449057</td>\n    </tr>\n    <tr>\n      <th>94</th>\n      <td>The Secret Life of Bees</td>\n      <td>Sue Monk Kidd</td>\n      <td>http://images.amazon.com/images/P/0142001740.0...</td>\n      <td>774</td>\n      <td>4.447028</td>\n    </tr>\n    <tr>\n      <th>100</th>\n      <td>Stupid White Men ...and Other Sorry Excuses fo...</td>\n      <td>Michael Moore</td>\n      <td>http://images.amazon.com/images/P/0060392452.0...</td>\n      <td>283</td>\n      <td>4.356890</td>\n    </tr>\n    <tr>\n      <th>101</th>\n      <td>Tuesdays with Morrie: An Old Man, a Young Man,...</td>\n      <td>MITCH ALBOM</td>\n      <td>http://images.amazon.com/images/P/0385484518.0...</td>\n      <td>493</td>\n      <td>4.354970</td>\n    </tr>\n    <tr>\n      <th>104</th>\n      <td>The Red Tent (Bestselling Backlist)</td>\n      <td>Anita Diamant</td>\n      <td>http://images.amazon.com/images/P/0312195516.0...</td>\n      <td>723</td>\n      <td>4.334716</td>\n    </tr>\n    <tr>\n      <th>105</th>\n      <td>Brave New World</td>\n      <td>Aldous Huxley</td>\n      <td>http://images.amazon.com/images/P/0060809833.0...</td>\n      <td>226</td>\n      <td>4.331858</td>\n    </tr>\n    <tr>\n      <th>110</th>\n      <td>The Hitchhiker's Guide to the Galaxy</td>\n      <td>Douglas Adams</td>\n      <td>http://images.amazon.com/images/P/0671461494.0...</td>\n      <td>268</td>\n      <td>4.328358</td>\n    </tr>\n    <tr>\n      <th>119</th>\n      <td>Nickel and Dimed: On (Not) Getting By in America</td>\n      <td>Barbara Ehrenreich</td>\n      <td>http://images.amazon.com/images/P/0805063897.0...</td>\n      <td>335</td>\n      <td>4.289552</td>\n    </tr>\n    <tr>\n      <th>121</th>\n      <td>The Tao of Pooh</td>\n      <td>Benjamin Hoff</td>\n      <td>http://images.amazon.com/images/P/0140067477.0...</td>\n      <td>211</td>\n      <td>4.289100</td>\n    </tr>\n    <tr>\n      <th>123</th>\n      <td>Animal Farm</td>\n      <td>George Orwell</td>\n      <td>http://images.amazon.com/images/P/0451526341.0...</td>\n      <td>233</td>\n      <td>4.274678</td>\n    </tr>\n    <tr>\n      <th>133</th>\n      <td>Into the Wild</td>\n      <td>Jon Krakauer</td>\n      <td>http://images.amazon.com/images/P/0385486804.0...</td>\n      <td>252</td>\n      <td>4.273810</td>\n    </tr>\n    <tr>\n      <th>136</th>\n      <td>Fahrenheit 451</td>\n      <td>Ray Bradbury</td>\n      <td>http://images.amazon.com/images/P/3257208626.0...</td>\n      <td>409</td>\n      <td>4.264059</td>\n    </tr>\n    <tr>\n      <th>149</th>\n      <td>A Walk in the Woods: Rediscovering America on ...</td>\n      <td>Bill Bryson</td>\n      <td>http://images.amazon.com/images/P/0767902521.0...</td>\n      <td>205</td>\n      <td>4.243902</td>\n    </tr>\n    <tr>\n      <th>150</th>\n      <td>Girl with a Pearl Earring</td>\n      <td>Tracy Chevalier</td>\n      <td>http://images.amazon.com/images/P/0452282152.0...</td>\n      <td>526</td>\n      <td>4.218631</td>\n    </tr>\n    <tr>\n      <th>151</th>\n      <td>Night</td>\n      <td>Elie Wiesel</td>\n      <td>http://images.amazon.com/images/P/0553272535.0...</td>\n      <td>202</td>\n      <td>4.217822</td>\n    </tr>\n    <tr>\n      <th>156</th>\n      <td>Outlander</td>\n      <td>DIANA GABALDON</td>\n      <td>http://images.amazon.com/images/P/0440222915.0...</td>\n      <td>283</td>\n      <td>4.173145</td>\n    </tr>\n    <tr>\n      <th>162</th>\n      <td>The Subtle Knife (His Dark Materials, Book 2)</td>\n      <td>PHILIP PULLMAN</td>\n      <td>http://images.amazon.com/images/P/0375823468.0...</td>\n      <td>225</td>\n      <td>4.124444</td>\n    </tr>\n    <tr>\n      <th>170</th>\n      <td>The Color of Water: A Black Man's Tribute to H...</td>\n      <td>James McBride</td>\n      <td>http://images.amazon.com/images/P/1573225789.0...</td>\n      <td>223</td>\n      <td>4.107623</td>\n    </tr>\n    <tr>\n      <th>172</th>\n      <td>Where the Heart Is (Oprah's Book Club (Paperba...</td>\n      <td>Billie Letts</td>\n      <td>http://images.amazon.com/images/P/0446672211.0...</td>\n      <td>585</td>\n      <td>4.105983</td>\n    </tr>\n    <tr>\n      <th>173</th>\n      <td>Seabiscuit: An American Legend</td>\n      <td>LAURA HILLENBRAND</td>\n      <td>http://images.amazon.com/images/P/0449005615.0...</td>\n      <td>275</td>\n      <td>4.098182</td>\n    </tr>\n    <tr>\n      <th>175</th>\n      <td>Life of Pi</td>\n      <td>Yann Martel</td>\n      <td>http://images.amazon.com/images/P/0151008116.0...</td>\n      <td>664</td>\n      <td>4.088855</td>\n    </tr>\n    <tr>\n      <th>179</th>\n      <td>The Bean Trees</td>\n      <td>Barbara Kingsolver</td>\n      <td>http://images.amazon.com/images/P/0060915544.0...</td>\n      <td>389</td>\n      <td>4.087404</td>\n    </tr>\n    <tr>\n      <th>182</th>\n      <td>A Child Called \\It\\\": One Child's Courage to S...</td>\n      <td>Dave Pelzer</td>\n      <td>http://images.amazon.com/images/P/1558743669.0...</td>\n      <td>265</td>\n      <td>4.086792</td>\n    </tr>\n    <tr>\n      <th>184</th>\n      <td>ANGELA'S ASHES</td>\n      <td>Frank McCourt</td>\n      <td>http://images.amazon.com/images/P/0684874350.0...</td>\n      <td>279</td>\n      <td>4.075269</td>\n    </tr>\n    <tr>\n      <th>186</th>\n      <td>High Fidelity</td>\n      <td>Nick Hornby</td>\n      <td>http://images.amazon.com/images/P/1573225517.0...</td>\n      <td>247</td>\n      <td>4.056680</td>\n    </tr>\n    <tr>\n      <th>192</th>\n      <td>Good in Bed</td>\n      <td>Jennifer Weiner</td>\n      <td>http://images.amazon.com/images/P/0743418174.0...</td>\n      <td>490</td>\n      <td>4.055102</td>\n    </tr>\n    <tr>\n      <th>194</th>\n      <td>Fast Food Nation: The Dark Side of the All-Ame...</td>\n      <td>Eric Schlosser</td>\n      <td>http://images.amazon.com/images/P/0060938455.0...</td>\n      <td>321</td>\n      <td>4.037383</td>\n    </tr>\n    <tr>\n      <th>195</th>\n      <td>American Gods</td>\n      <td>Neil Gaiman</td>\n      <td>http://images.amazon.com/images/P/0380789035.0...</td>\n      <td>302</td>\n      <td>4.006623</td>\n    </tr>\n    <tr>\n      <th>196</th>\n      <td>Skipping Christmas</td>\n      <td>JOHN GRISHAM</td>\n      <td>http://images.amazon.com/images/P/0385505833.0...</td>\n      <td>322</td>\n      <td>4.006211</td>\n    </tr>\n    <tr>\n      <th>202</th>\n      <td>Left Behind: A Novel of the Earth's Last Days ...</td>\n      <td>Tim Lahaye</td>\n      <td>http://images.amazon.com/images/P/0842329129.0...</td>\n      <td>318</td>\n      <td>4.003145</td>\n    </tr>\n    <tr>\n      <th>204</th>\n      <td>The Golden Compass (His Dark Materials, Book 1)</td>\n      <td>PHILIP PULLMAN</td>\n      <td>http://images.amazon.com/images/P/037582345X.0...</td>\n      <td>336</td>\n      <td>4.000000</td>\n    </tr>\n  </tbody>\n</table>\n</div>"
     },
     "execution_count": 106,
     "metadata": {},
     "output_type": "execute_result"
    }
   ],
   "source": [
    "popularity_df=popular_df.merge(books,on='Book-Title').drop_duplicates('Book-Title')[['Book-Title','Book-Author','Image-URL-M','Rating_Count','mean_rating']]\n",
    "popularity_df"
   ],
   "metadata": {
    "collapsed": false,
    "ExecuteTime": {
     "end_time": "2024-02-25T16:41:00.334567100Z",
     "start_time": "2024-02-25T16:41:00.193875400Z"
    }
   },
   "id": "36d090025f6eafb5",
   "execution_count": 106
  },
  {
   "cell_type": "markdown",
   "source": [
    "Collaborative-Filtering Based Recommendation System"
   ],
   "metadata": {
    "collapsed": false
   },
   "id": "42ff80e9e81b2b9a"
  },
  {
   "cell_type": "code",
   "outputs": [
    {
     "data": {
      "text/plain": "User-ID                                             254     2033    2276    \\\nBook-Title                                                                   \n1984                                                   9.0     0.0     0.0   \n1st to Die: A Novel                                    0.0     0.0     0.0   \n2nd Chance                                             0.0     0.0    10.0   \n4 Blondes                                              0.0     0.0     0.0   \nA Bend in the Road                                     0.0     0.0     0.0   \n...                                                    ...     ...     ...   \nYear of Wonders                                        0.0     0.0     0.0   \nYou Belong To Me                                       0.0     0.0     0.0   \nZen and the Art of Motorcycle Maintenance: An I...     0.0     0.0     0.0   \nZoya                                                   0.0     0.0     0.0   \n\\O\\\" Is for Outlaw\"                                    0.0     0.0     0.0   \n\nUser-ID                                             2766    2977    3363    \\\nBook-Title                                                                   \n1984                                                   0.0     0.0     0.0   \n1st to Die: A Novel                                    0.0     0.0     0.0   \n2nd Chance                                             0.0     0.0     0.0   \n4 Blondes                                              0.0     0.0     0.0   \nA Bend in the Road                                     7.0     0.0     0.0   \n...                                                    ...     ...     ...   \nYear of Wonders                                        0.0     7.0     0.0   \nYou Belong To Me                                       0.0     0.0     0.0   \nZen and the Art of Motorcycle Maintenance: An I...     0.0     0.0     0.0   \nZoya                                                   0.0     0.0     0.0   \n\\O\\\" Is for Outlaw\"                                    0.0     0.0     0.0   \n\nUser-ID                                             4017    4385    6251    \\\nBook-Title                                                                   \n1984                                                   0.0     0.0     0.0   \n1st to Die: A Novel                                    0.0     0.0     0.0   \n2nd Chance                                             0.0     0.0     0.0   \n4 Blondes                                              0.0     0.0     0.0   \nA Bend in the Road                                     0.0     0.0     0.0   \n...                                                    ...     ...     ...   \nYear of Wonders                                        0.0     0.0     0.0   \nYou Belong To Me                                       0.0     0.0     0.0   \nZen and the Art of Motorcycle Maintenance: An I...     0.0     0.0     0.0   \nZoya                                                   0.0     0.0     0.0   \n\\O\\\" Is for Outlaw\"                                    0.0     0.0     0.0   \n\nUser-ID                                             6323    ...  274301  \\\nBook-Title                                                  ...           \n1984                                                   0.0  ...     0.0   \n1st to Die: A Novel                                    0.0  ...     0.0   \n2nd Chance                                             0.0  ...     0.0   \n4 Blondes                                              0.0  ...     0.0   \nA Bend in the Road                                     0.0  ...     0.0   \n...                                                    ...  ...     ...   \nYear of Wonders                                        0.0  ...     0.0   \nYou Belong To Me                                       0.0  ...     0.0   \nZen and the Art of Motorcycle Maintenance: An I...     0.0  ...     0.0   \nZoya                                                   0.0  ...     0.0   \n\\O\\\" Is for Outlaw\"                                    0.0  ...     8.0   \n\nUser-ID                                             274308  274808  275970  \\\nBook-Title                                                                   \n1984                                                   0.0     0.0     0.0   \n1st to Die: A Novel                                    0.0     0.0     0.0   \n2nd Chance                                             0.0     0.0     0.0   \n4 Blondes                                              0.0     0.0     0.0   \nA Bend in the Road                                     0.0     0.0     0.0   \n...                                                    ...     ...     ...   \nYear of Wonders                                        0.0     0.0     0.0   \nYou Belong To Me                                       0.0     0.0     0.0   \nZen and the Art of Motorcycle Maintenance: An I...     0.0     0.0     0.0   \nZoya                                                   0.0     0.0     0.0   \n\\O\\\" Is for Outlaw\"                                    0.0     0.0     0.0   \n\nUser-ID                                             276680  277427  277478  \\\nBook-Title                                                                   \n1984                                                   0.0     0.0     0.0   \n1st to Die: A Novel                                    0.0     0.0     0.0   \n2nd Chance                                             0.0     0.0     0.0   \n4 Blondes                                              0.0     0.0     0.0   \nA Bend in the Road                                     0.0     0.0     0.0   \n...                                                    ...     ...     ...   \nYear of Wonders                                        0.0     0.0     0.0   \nYou Belong To Me                                       0.0     0.0     0.0   \nZen and the Art of Motorcycle Maintenance: An I...     0.0     0.0     0.0   \nZoya                                                   0.0     0.0     0.0   \n\\O\\\" Is for Outlaw\"                                    0.0     0.0     0.0   \n\nUser-ID                                             277639  278188  278418  \nBook-Title                                                                  \n1984                                                   0.0     0.0     0.0  \n1st to Die: A Novel                                    0.0     0.0     0.0  \n2nd Chance                                             0.0     0.0     0.0  \n4 Blondes                                              0.0     0.0     0.0  \nA Bend in the Road                                     0.0     0.0     0.0  \n...                                                    ...     ...     ...  \nYear of Wonders                                        0.0     0.0     0.0  \nYou Belong To Me                                       0.0     0.0     0.0  \nZen and the Art of Motorcycle Maintenance: An I...     0.0     0.0     0.0  \nZoya                                                   0.0     0.0     0.0  \n\\O\\\" Is for Outlaw\"                                    0.0     0.0     0.0  \n\n[783 rows x 917 columns]",
      "text/html": "<div>\n<style scoped>\n    .dataframe tbody tr th:only-of-type {\n        vertical-align: middle;\n    }\n\n    .dataframe tbody tr th {\n        vertical-align: top;\n    }\n\n    .dataframe thead th {\n        text-align: right;\n    }\n</style>\n<table border=\"1\" class=\"dataframe\">\n  <thead>\n    <tr style=\"text-align: right;\">\n      <th>User-ID</th>\n      <th>254</th>\n      <th>2033</th>\n      <th>2276</th>\n      <th>2766</th>\n      <th>2977</th>\n      <th>3363</th>\n      <th>4017</th>\n      <th>4385</th>\n      <th>6251</th>\n      <th>6323</th>\n      <th>...</th>\n      <th>274301</th>\n      <th>274308</th>\n      <th>274808</th>\n      <th>275970</th>\n      <th>276680</th>\n      <th>277427</th>\n      <th>277478</th>\n      <th>277639</th>\n      <th>278188</th>\n      <th>278418</th>\n    </tr>\n    <tr>\n      <th>Book-Title</th>\n      <th></th>\n      <th></th>\n      <th></th>\n      <th></th>\n      <th></th>\n      <th></th>\n      <th></th>\n      <th></th>\n      <th></th>\n      <th></th>\n      <th></th>\n      <th></th>\n      <th></th>\n      <th></th>\n      <th></th>\n      <th></th>\n      <th></th>\n      <th></th>\n      <th></th>\n      <th></th>\n      <th></th>\n    </tr>\n  </thead>\n  <tbody>\n    <tr>\n      <th>1984</th>\n      <td>9.0</td>\n      <td>0.0</td>\n      <td>0.0</td>\n      <td>0.0</td>\n      <td>0.0</td>\n      <td>0.0</td>\n      <td>0.0</td>\n      <td>0.0</td>\n      <td>0.0</td>\n      <td>0.0</td>\n      <td>...</td>\n      <td>0.0</td>\n      <td>0.0</td>\n      <td>0.0</td>\n      <td>0.0</td>\n      <td>0.0</td>\n      <td>0.0</td>\n      <td>0.0</td>\n      <td>0.0</td>\n      <td>0.0</td>\n      <td>0.0</td>\n    </tr>\n    <tr>\n      <th>1st to Die: A Novel</th>\n      <td>0.0</td>\n      <td>0.0</td>\n      <td>0.0</td>\n      <td>0.0</td>\n      <td>0.0</td>\n      <td>0.0</td>\n      <td>0.0</td>\n      <td>0.0</td>\n      <td>0.0</td>\n      <td>0.0</td>\n      <td>...</td>\n      <td>0.0</td>\n      <td>0.0</td>\n      <td>0.0</td>\n      <td>0.0</td>\n      <td>0.0</td>\n      <td>0.0</td>\n      <td>0.0</td>\n      <td>0.0</td>\n      <td>0.0</td>\n      <td>0.0</td>\n    </tr>\n    <tr>\n      <th>2nd Chance</th>\n      <td>0.0</td>\n      <td>0.0</td>\n      <td>10.0</td>\n      <td>0.0</td>\n      <td>0.0</td>\n      <td>0.0</td>\n      <td>0.0</td>\n      <td>0.0</td>\n      <td>0.0</td>\n      <td>0.0</td>\n      <td>...</td>\n      <td>0.0</td>\n      <td>0.0</td>\n      <td>0.0</td>\n      <td>0.0</td>\n      <td>0.0</td>\n      <td>0.0</td>\n      <td>0.0</td>\n      <td>0.0</td>\n      <td>0.0</td>\n      <td>0.0</td>\n    </tr>\n    <tr>\n      <th>4 Blondes</th>\n      <td>0.0</td>\n      <td>0.0</td>\n      <td>0.0</td>\n      <td>0.0</td>\n      <td>0.0</td>\n      <td>0.0</td>\n      <td>0.0</td>\n      <td>0.0</td>\n      <td>0.0</td>\n      <td>0.0</td>\n      <td>...</td>\n      <td>0.0</td>\n      <td>0.0</td>\n      <td>0.0</td>\n      <td>0.0</td>\n      <td>0.0</td>\n      <td>0.0</td>\n      <td>0.0</td>\n      <td>0.0</td>\n      <td>0.0</td>\n      <td>0.0</td>\n    </tr>\n    <tr>\n      <th>A Bend in the Road</th>\n      <td>0.0</td>\n      <td>0.0</td>\n      <td>0.0</td>\n      <td>7.0</td>\n      <td>0.0</td>\n      <td>0.0</td>\n      <td>0.0</td>\n      <td>0.0</td>\n      <td>0.0</td>\n      <td>0.0</td>\n      <td>...</td>\n      <td>0.0</td>\n      <td>0.0</td>\n      <td>0.0</td>\n      <td>0.0</td>\n      <td>0.0</td>\n      <td>0.0</td>\n      <td>0.0</td>\n      <td>0.0</td>\n      <td>0.0</td>\n      <td>0.0</td>\n    </tr>\n    <tr>\n      <th>...</th>\n      <td>...</td>\n      <td>...</td>\n      <td>...</td>\n      <td>...</td>\n      <td>...</td>\n      <td>...</td>\n      <td>...</td>\n      <td>...</td>\n      <td>...</td>\n      <td>...</td>\n      <td>...</td>\n      <td>...</td>\n      <td>...</td>\n      <td>...</td>\n      <td>...</td>\n      <td>...</td>\n      <td>...</td>\n      <td>...</td>\n      <td>...</td>\n      <td>...</td>\n      <td>...</td>\n    </tr>\n    <tr>\n      <th>Year of Wonders</th>\n      <td>0.0</td>\n      <td>0.0</td>\n      <td>0.0</td>\n      <td>0.0</td>\n      <td>7.0</td>\n      <td>0.0</td>\n      <td>0.0</td>\n      <td>0.0</td>\n      <td>0.0</td>\n      <td>0.0</td>\n      <td>...</td>\n      <td>0.0</td>\n      <td>0.0</td>\n      <td>0.0</td>\n      <td>0.0</td>\n      <td>0.0</td>\n      <td>0.0</td>\n      <td>0.0</td>\n      <td>0.0</td>\n      <td>0.0</td>\n      <td>0.0</td>\n    </tr>\n    <tr>\n      <th>You Belong To Me</th>\n      <td>0.0</td>\n      <td>0.0</td>\n      <td>0.0</td>\n      <td>0.0</td>\n      <td>0.0</td>\n      <td>0.0</td>\n      <td>0.0</td>\n      <td>0.0</td>\n      <td>0.0</td>\n      <td>0.0</td>\n      <td>...</td>\n      <td>0.0</td>\n      <td>0.0</td>\n      <td>0.0</td>\n      <td>0.0</td>\n      <td>0.0</td>\n      <td>0.0</td>\n      <td>0.0</td>\n      <td>0.0</td>\n      <td>0.0</td>\n      <td>0.0</td>\n    </tr>\n    <tr>\n      <th>Zen and the Art of Motorcycle Maintenance: An Inquiry into Values</th>\n      <td>0.0</td>\n      <td>0.0</td>\n      <td>0.0</td>\n      <td>0.0</td>\n      <td>0.0</td>\n      <td>0.0</td>\n      <td>0.0</td>\n      <td>0.0</td>\n      <td>0.0</td>\n      <td>0.0</td>\n      <td>...</td>\n      <td>0.0</td>\n      <td>0.0</td>\n      <td>0.0</td>\n      <td>0.0</td>\n      <td>0.0</td>\n      <td>0.0</td>\n      <td>0.0</td>\n      <td>0.0</td>\n      <td>0.0</td>\n      <td>0.0</td>\n    </tr>\n    <tr>\n      <th>Zoya</th>\n      <td>0.0</td>\n      <td>0.0</td>\n      <td>0.0</td>\n      <td>0.0</td>\n      <td>0.0</td>\n      <td>0.0</td>\n      <td>0.0</td>\n      <td>0.0</td>\n      <td>0.0</td>\n      <td>0.0</td>\n      <td>...</td>\n      <td>0.0</td>\n      <td>0.0</td>\n      <td>0.0</td>\n      <td>0.0</td>\n      <td>0.0</td>\n      <td>0.0</td>\n      <td>0.0</td>\n      <td>0.0</td>\n      <td>0.0</td>\n      <td>0.0</td>\n    </tr>\n    <tr>\n      <th>\\O\\\" Is for Outlaw\"</th>\n      <td>0.0</td>\n      <td>0.0</td>\n      <td>0.0</td>\n      <td>0.0</td>\n      <td>0.0</td>\n      <td>0.0</td>\n      <td>0.0</td>\n      <td>0.0</td>\n      <td>0.0</td>\n      <td>0.0</td>\n      <td>...</td>\n      <td>8.0</td>\n      <td>0.0</td>\n      <td>0.0</td>\n      <td>0.0</td>\n      <td>0.0</td>\n      <td>0.0</td>\n      <td>0.0</td>\n      <td>0.0</td>\n      <td>0.0</td>\n      <td>0.0</td>\n    </tr>\n  </tbody>\n</table>\n<p>783 rows × 917 columns</p>\n</div>"
     },
     "execution_count": 113,
     "metadata": {},
     "output_type": "execute_result"
    }
   ],
   "source": [
    "df_1 = ratings_and_users.groupby('User-ID').count()['Book-Rating'] > 180\n",
    "Literate_users = df_1[df_1].index\n",
    "filtered_ratings = ratings_and_users[ratings_and_users['User-ID'].isin(Literate_users)]\n",
    "df_2 = filtered_ratings.groupby('Book-Title').count()['Book-Rating'] >= 50\n",
    "Famous_Books = df_2[df_2].index\n",
    "Final_Ratings = filtered_ratings[filtered_ratings['Book-Title'].isin(Famous_Books)]\n",
    "pivoted_table = Final_Ratings.pivot_table(index='Book-Title', columns='User-ID', values='Book-Rating')\n",
    "pivoted_table.fillna(0, inplace=True)\n",
    "pivoted_table"
   ],
   "metadata": {
    "collapsed": false,
    "ExecuteTime": {
     "end_time": "2024-02-25T16:55:19.493351100Z",
     "start_time": "2024-02-25T16:55:16.743785400Z"
    }
   },
   "id": "ac9c620d460b7be4",
   "execution_count": 113
  },
  {
   "cell_type": "code",
   "outputs": [
    {
     "data": {
      "text/plain": "(783, 783)"
     },
     "execution_count": 115,
     "metadata": {},
     "output_type": "execute_result"
    }
   ],
   "source": [
    "from sklearn.metrics.pairwise import cosine_similarity\n",
    "Score_of_Similarity = cosine_similarity(pivoted_table)\n",
    "Score_of_Similarity.shape\n"
   ],
   "metadata": {
    "collapsed": false,
    "ExecuteTime": {
     "end_time": "2024-02-25T17:00:26.918123600Z",
     "start_time": "2024-02-25T17:00:25.200520800Z"
    }
   },
   "id": "7ff01330979dd3e",
   "execution_count": 115
  },
  {
   "cell_type": "code",
   "outputs": [],
   "source": [
    "def recommendations(Book_Name):\n",
    "    index= nmp.where(pivoted_table.index==Book_Name)\n",
    "    Similar_Items = sorted(list(enumerate(Score_of_Similarity[0])),key=lambda x:x[1], reverse=True)[1:6]\n",
    "    for i in Similar_Items:\n",
    "        print(pivoted_table.index[i[index]])\n",
    "    "
   ],
   "metadata": {
    "collapsed": false,
    "ExecuteTime": {
     "end_time": "2024-02-25T17:06:55.062305800Z",
     "start_time": "2024-02-25T17:06:55.037315600Z"
    }
   },
   "id": "46afc629f5408f6e",
   "execution_count": 117
  },
  {
   "cell_type": "code",
   "outputs": [
    {
     "name": "stdout",
     "output_type": "stream",
     "text": [
      "Animal Farm\n",
      "The Handmaid's Tale\n",
      "The Catcher in the Rye\n",
      "Lord of the Flies\n",
      "Slaughterhouse Five or the Children's Crusade: A Duty Dance With Death\n"
     ]
    }
   ],
   "source": [
    "recommendations('lost')"
   ],
   "metadata": {
    "collapsed": false,
    "ExecuteTime": {
     "end_time": "2024-02-25T17:07:20.679096800Z",
     "start_time": "2024-02-25T17:07:20.653445700Z"
    }
   },
   "id": "b07060d0d6695a5a",
   "execution_count": 120
  },
  {
   "cell_type": "code",
   "outputs": [
    {
     "data": {
      "text/plain": "'http://images.amazon.com/images/P/0439136350.01.MZZZZZZZ.jpg'"
     },
     "execution_count": 122,
     "metadata": {},
     "output_type": "execute_result"
    }
   ],
   "source": [
    "popularity_df['Image-URL-M'][0]"
   ],
   "metadata": {
    "collapsed": false,
    "ExecuteTime": {
     "end_time": "2024-02-25T18:00:45.957329100Z",
     "start_time": "2024-02-25T18:00:45.915835400Z"
    }
   },
   "id": "475143cd15ae668d",
   "execution_count": 122
  },
  {
   "cell_type": "code",
   "outputs": [],
   "source": [
    "import pickle\n",
    "pickle.dump(popularity_df,open('popular.pkl','wb'))"
   ],
   "metadata": {
    "collapsed": false,
    "ExecuteTime": {
     "end_time": "2024-02-25T18:05:19.951198700Z",
     "start_time": "2024-02-25T18:05:19.929082400Z"
    }
   },
   "id": "7e9ee3be5e31c6ad",
   "execution_count": 123
  },
  {
   "cell_type": "code",
   "outputs": [],
   "source": [],
   "metadata": {
    "collapsed": false
   },
   "id": "cffe4d9eea6496d3"
  }
 ],
 "metadata": {
  "kernelspec": {
   "display_name": "Python 3 (ipykernel)",
   "language": "python",
   "name": "python3"
  },
  "language_info": {
   "codemirror_mode": {
    "name": "ipython",
    "version": 3
   },
   "file_extension": ".py",
   "mimetype": "text/x-python",
   "name": "python",
   "nbconvert_exporter": "python",
   "pygments_lexer": "ipython3",
   "version": "3.12.2"
  }
 },
 "nbformat": 4,
 "nbformat_minor": 5
}
